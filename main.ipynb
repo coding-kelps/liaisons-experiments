{
 "cells": [
  {
   "cell_type": "code",
   "execution_count": null,
   "metadata": {},
   "outputs": [],
   "source": [
    "from liaisons_experiments.logger import setup_logger\n",
    "\n",
    "setup_logger()"
   ]
  },
  {
   "cell_type": "code",
   "execution_count": null,
   "metadata": {},
   "outputs": [],
   "source": [
    "from liaisons_experiments.experiments.multi_experiment import ExperimentConfig, MultiExperiment\n",
    "from tqdm.notebook import tqdm\n",
    "\n",
    "exp_configs = [\n",
    "    ExperimentConfig(\n",
    "        model=\"gemma:2b\"\n",
    "    ),\n",
    "    ExperimentConfig(\n",
    "        model=\"gemma:7b\"\n",
    "    )\n",
    "]\n",
    "\n",
    "exps = MultiExperiment(exp_configs, tqdm=tqdm)"
   ]
  },
  {
   "cell_type": "code",
   "execution_count": null,
   "metadata": {},
   "outputs": [],
   "source": [
    "results = exps.run_from_csv(\".dev/ibm_claim_stance_binary_sample.csv\", relation_dim=\"binary\")"
   ]
  },
  {
   "cell_type": "code",
   "execution_count": null,
   "metadata": {},
   "outputs": [],
   "source": [
    "results.f1_scores"
   ]
  }
 ],
 "metadata": {
  "kernelspec": {
   "display_name": ".venv",
   "language": "python",
   "name": "python3"
  },
  "language_info": {
   "codemirror_mode": {
    "name": "ipython",
    "version": 3
   },
   "file_extension": ".py",
   "mimetype": "text/x-python",
   "name": "python",
   "nbconvert_exporter": "python",
   "pygments_lexer": "ipython3",
   "version": "3.11.8"
  }
 },
 "nbformat": 4,
 "nbformat_minor": 2
}
