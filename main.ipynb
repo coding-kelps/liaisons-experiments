{
 "cells": [
  {
   "cell_type": "code",
   "execution_count": 1,
   "metadata": {},
   "outputs": [],
   "source": [
    "from liaisons_experiments.logger import setup_logger\n",
    "\n",
    "setup_logger()"
   ]
  },
  {
   "cell_type": "code",
   "execution_count": 2,
   "metadata": {},
   "outputs": [],
   "source": [
    "from liaisons_experiments.experiments.multi_experiment import ExperimentConfig, MultiExperiment\n",
    "from tqdm.notebook import tqdm\n",
    "\n",
    "exp_configs = [\n",
    "    ExperimentConfig(\n",
    "        model=\"gemma:2b\"\n",
    "    ),\n",
    "    ExperimentConfig(\n",
    "        model=\"gemma:7b\"\n",
    "    )\n",
    "]\n",
    "\n",
    "exps = MultiExperiment(exp_configs, tqdm=tqdm)"
   ]
  },
  {
   "cell_type": "code",
   "execution_count": 3,
   "metadata": {},
   "outputs": [
    {
     "data": {
      "application/vnd.jupyter.widget-view+json": {
       "model_id": "995e3c8b0b9d4711aadb02efd2cf2d57",
       "version_major": 2,
       "version_minor": 0
      },
      "text/plain": [
       "predict argument relation - model=gemma:2b relation_dimension=binary:   0%|          | 0/110 [00:00<?, ?it/s]"
      ]
     },
     "metadata": {},
     "output_type": "display_data"
    },
    {
     "name": "stderr",
     "output_type": "stream",
     "text": [
      "WARNING:root:attempt=0 model=gemma:2b relation_dimension=binary msg=Unexpected LLM response value, got: \"The relation between the two arguments is that Arg2 is a counterargument to Arg1. Arg2 argues that the BCS has several key advantages over a playoff system, while Arg1 argues that implementing playoffs in collegiate level American football would be beneficial.\"\n",
      "WARNING:root:attempt=0 model=gemma:2b relation_dimension=binary msg=Unexpected LLM response value, got: \"The relation between the two arguments is that Arg2 is a claim about the military regime in Burma, and Arg1 is a claim about re-engaging with Myanmar.\"\n",
      "WARNING:root:attempt=0 model=gemma:2b relation_dimension=binary msg=Unexpected LLM response value, got: \"The relation between those arguments is that Arg2 is a counterargument to Arg1. Arg2 is saying that even though Arg1 is arguing that boxing should be banned, many physicians still advise against sports involving knockouts.\"\n"
     ]
    },
    {
     "data": {
      "application/vnd.jupyter.widget-view+json": {
       "model_id": "6f55d055d5eb4c638c2bdf43a01a477e",
       "version_major": 2,
       "version_minor": 0
      },
      "text/plain": [
       "predict argument relation - model=gemma:7b relation_dimension=binary:   0%|          | 0/110 [00:00<?, ?it/s]"
      ]
     },
     "metadata": {},
     "output_type": "display_data"
    }
   ],
   "source": [
    "results = exps.run_from_csv(\".dev/ibm_claim_stance_binary_sample.csv\", relation_dim=\"binary\")"
   ]
  },
  {
   "cell_type": "code",
   "execution_count": 4,
   "metadata": {},
   "outputs": [
    {
     "data": {
      "text/html": [
       "<div>\n",
       "<style scoped>\n",
       "    .dataframe tbody tr th:only-of-type {\n",
       "        vertical-align: middle;\n",
       "    }\n",
       "\n",
       "    .dataframe tbody tr th {\n",
       "        vertical-align: top;\n",
       "    }\n",
       "\n",
       "    .dataframe thead th {\n",
       "        text-align: right;\n",
       "    }\n",
       "</style>\n",
       "<table border=\"1\" class=\"dataframe\">\n",
       "  <thead>\n",
       "    <tr style=\"text-align: right;\">\n",
       "      <th></th>\n",
       "      <th>support</th>\n",
       "      <th>attack</th>\n",
       "      <th>macro</th>\n",
       "    </tr>\n",
       "  </thead>\n",
       "  <tbody>\n",
       "    <tr>\n",
       "      <th>gemma:2b</th>\n",
       "      <td>0.609524</td>\n",
       "      <td>0.643478</td>\n",
       "      <td>0.626501</td>\n",
       "    </tr>\n",
       "    <tr>\n",
       "      <th>gemma:7b</th>\n",
       "      <td>0.815385</td>\n",
       "      <td>0.733333</td>\n",
       "      <td>0.774359</td>\n",
       "    </tr>\n",
       "  </tbody>\n",
       "</table>\n",
       "</div>"
      ],
      "text/plain": [
       "           support    attack     macro\n",
       "gemma:2b  0.609524  0.643478  0.626501\n",
       "gemma:7b  0.815385  0.733333  0.774359"
      ]
     },
     "execution_count": 4,
     "metadata": {},
     "output_type": "execute_result"
    }
   ],
   "source": [
    "results.f1_scores"
   ]
  }
 ],
 "metadata": {
  "kernelspec": {
   "display_name": ".venv",
   "language": "python",
   "name": "python3"
  },
  "language_info": {
   "codemirror_mode": {
    "name": "ipython",
    "version": 3
   },
   "file_extension": ".py",
   "mimetype": "text/x-python",
   "name": "python",
   "nbconvert_exporter": "python",
   "pygments_lexer": "ipython3",
   "version": "3.11.8"
  }
 },
 "nbformat": 4,
 "nbformat_minor": 2
}
