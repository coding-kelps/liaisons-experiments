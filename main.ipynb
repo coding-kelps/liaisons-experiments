{
 "cells": [
  {
   "cell_type": "markdown",
   "metadata": {},
   "source": [
    "# liaisons-experiments - Framework Try-out"
   ]
  },
  {
   "cell_type": "code",
   "execution_count": 1,
   "metadata": {},
   "outputs": [],
   "source": [
    "from liaisons_experiments.experiments.multi_experiment import ExperimentConfig, MultiExperiment\n",
    "from tqdm.notebook import tqdm\n",
    "\n",
    "exp_configs = [\n",
    "    ExperimentConfig(\n",
    "        model=\"gemma:2b\",\n",
    "        endpoint=\"http://ollama.workstation\"\n",
    "    ),\n",
    "    ExperimentConfig(\n",
    "        model=\"gemma:7b\",\n",
    "        endpoint=\"http://ollama.workstation\"\n",
    "    ),\n",
    "    ExperimentConfig(\n",
    "        model=\"phi3:3.8b\",\n",
    "        endpoint=\"http://ollama.workstation\"\n",
    "    ),\n",
    "    ExperimentConfig(\n",
    "        model=\"phi3:14b\",\n",
    "        endpoint=\"http://ollama.workstation\"\n",
    "    ),\n",
    "    ExperimentConfig(\n",
    "        model=\"llama3:8b\",\n",
    "        endpoint=\"http://ollama.workstation\"\n",
    "    ),\n",
    "    ExperimentConfig(\n",
    "        model=\"llama3:70b\",\n",
    "        endpoint=\"http://ollama.workstation\"\n",
    "    ),\n",
    "    ExperimentConfig(\n",
    "        model=\"mistral:7b\",\n",
    "        endpoint=\"http://ollama.workstation\"\n",
    "    ),\n",
    "    ExperimentConfig(\n",
    "        model=\"mixtral:8x7b\",\n",
    "        endpoint=\"http://ollama.workstation\"\n",
    "    ),\n",
    "    ExperimentConfig(\n",
    "        model=\"qwen2:0.5b\",\n",
    "        endpoint=\"http://ollama.workstation\"\n",
    "    ),\n",
    "]\n",
    "\n",
    "exps = MultiExperiment(exp_configs, tqdm=tqdm)"
   ]
  },
  {
   "cell_type": "code",
   "execution_count": 2,
   "metadata": {},
   "outputs": [
    {
     "data": {
      "application/vnd.jupyter.widget-view+json": {
       "model_id": "2b5d8edc79244acba63e680d703952ba",
       "version_major": 2,
       "version_minor": 0
      },
      "text/plain": [
       "predict argument relation - model=gemma:2b relation_dimension=binary:   0%|          | 0/110 [00:00<?, ?it/s]"
      ]
     },
     "metadata": {},
     "output_type": "display_data"
    },
    {
     "name": "stderr",
     "output_type": "stream",
     "text": [
      "WARNING:root:attempt=0 model=gemma:2b relation_dimension=binary msg=Unexpected LLM response value, got: \"The relation between the two arguments is that Arg2 is a response to Arg1. Arg1 is arguing that the sale of violent video games to minors should be banned, and Arg2 is arguing that states do not have the right to decide that some video games are too violent for minors.\"\n",
      "WARNING:root:attempt=1 model=gemma:2b relation_dimension=binary msg=Unexpected LLM response value, got: \"The relation between the two arguments is that Arg2 is a response to Arg1. Arg1 argues that the sale of violent video games to minors should be banned, and Arg2 responds by arguing that states do not have the right to decide that some video games are too violent for minors.\"\n",
      "WARNING:root:attempt=0 model=gemma:2b relation_dimension=binary msg=Unexpected LLM response value, got: \"The relation between those two arguments is that Arg2 is a defense of Arg1. Arg2 is arguing that some regulation is required to make the free market work, while Arg1 is presenting the argument that this house would unleash the free market.\"\n",
      "WARNING:root:attempt=0 model=gemma:2b relation_dimension=binary msg=Unexpected LLM response value, got: \"The relation between those two arguments is that Arg2 is a defense of Arg1. Arg2 is arguing that the sale of violent video games to minors should be banned because it would protect minors from exposure to violence.\"\n"
     ]
    },
    {
     "data": {
      "application/vnd.jupyter.widget-view+json": {
       "model_id": "a3f45cdaa53e49d5a3b868d80880539a",
       "version_major": 2,
       "version_minor": 0
      },
      "text/plain": [
       "predict argument relation - model=gemma:7b relation_dimension=binary:   0%|          | 0/110 [00:00<?, ?it/s]"
      ]
     },
     "metadata": {},
     "output_type": "display_data"
    },
    {
     "data": {
      "application/vnd.jupyter.widget-view+json": {
       "model_id": "e1fa46a4d96145a38c52d37ff5ed1a54",
       "version_major": 2,
       "version_minor": 0
      },
      "text/plain": [
       "predict argument relation - model=phi3:3.8b relation_dimension=binary:   0%|          | 0/110 [00:00<?, ?it/s]"
      ]
     },
     "metadata": {},
     "output_type": "display_data"
    },
    {
     "data": {
      "application/vnd.jupyter.widget-view+json": {
       "model_id": "e808e801a5e8448f818d9fdda4340b08",
       "version_major": 2,
       "version_minor": 0
      },
      "text/plain": [
       "predict argument relation - model=phi3:14b relation_dimension=binary:   0%|          | 0/110 [00:00<?, ?it/s]"
      ]
     },
     "metadata": {},
     "output_type": "display_data"
    },
    {
     "data": {
      "application/vnd.jupyter.widget-view+json": {
       "model_id": "7689ccbcb21245fda9cb964c83e58e82",
       "version_major": 2,
       "version_minor": 0
      },
      "text/plain": [
       "predict argument relation - model=llama3:8b relation_dimension=binary:   0%|          | 0/110 [00:00<?, ?it/s]"
      ]
     },
     "metadata": {},
     "output_type": "display_data"
    },
    {
     "data": {
      "application/vnd.jupyter.widget-view+json": {
       "model_id": "123e3771c6d045ef925a417a4116c33f",
       "version_major": 2,
       "version_minor": 0
      },
      "text/plain": [
       "predict argument relation - model=llama3:70b relation_dimension=binary:   0%|          | 0/110 [00:00<?, ?it/s…"
      ]
     },
     "metadata": {},
     "output_type": "display_data"
    },
    {
     "data": {
      "application/vnd.jupyter.widget-view+json": {
       "model_id": "63570127570f40b8bde7ce1697630223",
       "version_major": 2,
       "version_minor": 0
      },
      "text/plain": [
       "predict argument relation - model=mistral:7b relation_dimension=binary:   0%|          | 0/110 [00:00<?, ?it/s…"
      ]
     },
     "metadata": {},
     "output_type": "display_data"
    },
    {
     "data": {
      "application/vnd.jupyter.widget-view+json": {
       "model_id": "479d12ceb762468dba71ccc4797d9b20",
       "version_major": 2,
       "version_minor": 0
      },
      "text/plain": [
       "predict argument relation - model=mixtral:8x7b relation_dimension=binary:   0%|          | 0/110 [00:00<?, ?it…"
      ]
     },
     "metadata": {},
     "output_type": "display_data"
    },
    {
     "data": {
      "application/vnd.jupyter.widget-view+json": {
       "model_id": "5a02d18d0504451aaa945d9b749fa185",
       "version_major": 2,
       "version_minor": 0
      },
      "text/plain": [
       "predict argument relation - model=qwen2:0.5b relation_dimension=binary:   0%|          | 0/110 [00:00<?, ?it/s…"
      ]
     },
     "metadata": {},
     "output_type": "display_data"
    },
    {
     "data": {
      "text/html": [
       "<div>\n",
       "<style scoped>\n",
       "    .dataframe tbody tr th:only-of-type {\n",
       "        vertical-align: middle;\n",
       "    }\n",
       "\n",
       "    .dataframe tbody tr th {\n",
       "        vertical-align: top;\n",
       "    }\n",
       "\n",
       "    .dataframe thead th {\n",
       "        text-align: right;\n",
       "    }\n",
       "</style>\n",
       "<table border=\"1\" class=\"dataframe\">\n",
       "  <thead>\n",
       "    <tr style=\"text-align: right;\">\n",
       "      <th></th>\n",
       "      <th>support</th>\n",
       "      <th>attack</th>\n",
       "      <th>macro</th>\n",
       "    </tr>\n",
       "  </thead>\n",
       "  <tbody>\n",
       "    <tr>\n",
       "      <th>gemma:2b</th>\n",
       "      <td>0.563107</td>\n",
       "      <td>0.615385</td>\n",
       "      <td>0.589246</td>\n",
       "    </tr>\n",
       "    <tr>\n",
       "      <th>gemma:7b</th>\n",
       "      <td>0.791045</td>\n",
       "      <td>0.674419</td>\n",
       "      <td>0.732732</td>\n",
       "    </tr>\n",
       "    <tr>\n",
       "      <th>phi3:3.8b</th>\n",
       "      <td>0.744186</td>\n",
       "      <td>0.637363</td>\n",
       "      <td>0.690774</td>\n",
       "    </tr>\n",
       "    <tr>\n",
       "      <th>phi3:14b</th>\n",
       "      <td>0.891089</td>\n",
       "      <td>0.907563</td>\n",
       "      <td>0.899326</td>\n",
       "    </tr>\n",
       "    <tr>\n",
       "      <th>llama3:8b</th>\n",
       "      <td>0.700000</td>\n",
       "      <td>0.750000</td>\n",
       "      <td>0.725000</td>\n",
       "    </tr>\n",
       "    <tr>\n",
       "      <th>llama3:70b</th>\n",
       "      <td>0.905660</td>\n",
       "      <td>0.912281</td>\n",
       "      <td>0.908971</td>\n",
       "    </tr>\n",
       "    <tr>\n",
       "      <th>mistral:7b</th>\n",
       "      <td>0.834951</td>\n",
       "      <td>0.854701</td>\n",
       "      <td>0.844826</td>\n",
       "    </tr>\n",
       "    <tr>\n",
       "      <th>mixtral:8x7b</th>\n",
       "      <td>0.862069</td>\n",
       "      <td>0.846154</td>\n",
       "      <td>0.854111</td>\n",
       "    </tr>\n",
       "    <tr>\n",
       "      <th>qwen2:0.5b</th>\n",
       "      <td>0.670732</td>\n",
       "      <td>0.035714</td>\n",
       "      <td>0.353223</td>\n",
       "    </tr>\n",
       "  </tbody>\n",
       "</table>\n",
       "</div>"
      ],
      "text/plain": [
       "               support    attack     macro\n",
       "gemma:2b      0.563107  0.615385  0.589246\n",
       "gemma:7b      0.791045  0.674419  0.732732\n",
       "phi3:3.8b     0.744186  0.637363  0.690774\n",
       "phi3:14b      0.891089  0.907563  0.899326\n",
       "llama3:8b     0.700000  0.750000  0.725000\n",
       "llama3:70b    0.905660  0.912281  0.908971\n",
       "mistral:7b    0.834951  0.854701  0.844826\n",
       "mixtral:8x7b  0.862069  0.846154  0.854111\n",
       "qwen2:0.5b    0.670732  0.035714  0.353223"
      ]
     },
     "execution_count": 2,
     "metadata": {},
     "output_type": "execute_result"
    }
   ],
   "source": [
    "binary_results = exps.run_from_csv(\".dev/ibm_claim_stance_binary_sample.csv\", relation_dim=\"binary\")\n",
    "\n",
    "binary_results.f1_scores"
   ]
  },
  {
   "cell_type": "code",
   "execution_count": 3,
   "metadata": {},
   "outputs": [
    {
     "data": {
      "application/vnd.jupyter.widget-view+json": {
       "model_id": "f23db71a09ed4a4b833dccb7cac85dd4",
       "version_major": 2,
       "version_minor": 0
      },
      "text/plain": [
       "predict argument relation - model=gemma:2b relation_dimension=ternary:   0%|          | 0/72 [00:00<?, ?it/s]"
      ]
     },
     "metadata": {},
     "output_type": "display_data"
    },
    {
     "data": {
      "application/vnd.jupyter.widget-view+json": {
       "model_id": "056022e8825c4ce0a27b266c5906e3b1",
       "version_major": 2,
       "version_minor": 0
      },
      "text/plain": [
       "predict argument relation - model=gemma:7b relation_dimension=ternary:   0%|          | 0/72 [00:00<?, ?it/s]"
      ]
     },
     "metadata": {},
     "output_type": "display_data"
    },
    {
     "data": {
      "application/vnd.jupyter.widget-view+json": {
       "model_id": "47d11f4b988c486181d532fc956228d1",
       "version_major": 2,
       "version_minor": 0
      },
      "text/plain": [
       "predict argument relation - model=phi3:3.8b relation_dimension=ternary:   0%|          | 0/72 [00:00<?, ?it/s]"
      ]
     },
     "metadata": {},
     "output_type": "display_data"
    },
    {
     "data": {
      "application/vnd.jupyter.widget-view+json": {
       "model_id": "f685631cd8294506862cd4b3dcca14d0",
       "version_major": 2,
       "version_minor": 0
      },
      "text/plain": [
       "predict argument relation - model=phi3:14b relation_dimension=ternary:   0%|          | 0/72 [00:00<?, ?it/s]"
      ]
     },
     "metadata": {},
     "output_type": "display_data"
    },
    {
     "data": {
      "application/vnd.jupyter.widget-view+json": {
       "model_id": "235ee465b6ef484caef26dc6181ca808",
       "version_major": 2,
       "version_minor": 0
      },
      "text/plain": [
       "predict argument relation - model=llama3:8b relation_dimension=ternary:   0%|          | 0/72 [00:00<?, ?it/s]"
      ]
     },
     "metadata": {},
     "output_type": "display_data"
    },
    {
     "data": {
      "application/vnd.jupyter.widget-view+json": {
       "model_id": "6a37447ef02a447fad98957d8ecd66f4",
       "version_major": 2,
       "version_minor": 0
      },
      "text/plain": [
       "predict argument relation - model=llama3:70b relation_dimension=ternary:   0%|          | 0/72 [00:00<?, ?it/s…"
      ]
     },
     "metadata": {},
     "output_type": "display_data"
    },
    {
     "data": {
      "application/vnd.jupyter.widget-view+json": {
       "model_id": "c9d40ebde9c6427ab56a5c49b819d6ab",
       "version_major": 2,
       "version_minor": 0
      },
      "text/plain": [
       "predict argument relation - model=mistral:7b relation_dimension=ternary:   0%|          | 0/72 [00:00<?, ?it/s…"
      ]
     },
     "metadata": {},
     "output_type": "display_data"
    },
    {
     "data": {
      "application/vnd.jupyter.widget-view+json": {
       "model_id": "339b6b90b1f646f8899978ef657b1545",
       "version_major": 2,
       "version_minor": 0
      },
      "text/plain": [
       "predict argument relation - model=mixtral:8x7b relation_dimension=ternary:   0%|          | 0/72 [00:00<?, ?it…"
      ]
     },
     "metadata": {},
     "output_type": "display_data"
    },
    {
     "data": {
      "application/vnd.jupyter.widget-view+json": {
       "model_id": "4ded795fde074e19a1eb6cd37d90044e",
       "version_major": 2,
       "version_minor": 0
      },
      "text/plain": [
       "predict argument relation - model=qwen2:0.5b relation_dimension=ternary:   0%|          | 0/72 [00:00<?, ?it/s…"
      ]
     },
     "metadata": {},
     "output_type": "display_data"
    },
    {
     "data": {
      "text/html": [
       "<div>\n",
       "<style scoped>\n",
       "    .dataframe tbody tr th:only-of-type {\n",
       "        vertical-align: middle;\n",
       "    }\n",
       "\n",
       "    .dataframe tbody tr th {\n",
       "        vertical-align: top;\n",
       "    }\n",
       "\n",
       "    .dataframe thead th {\n",
       "        text-align: right;\n",
       "    }\n",
       "</style>\n",
       "<table border=\"1\" class=\"dataframe\">\n",
       "  <thead>\n",
       "    <tr style=\"text-align: right;\">\n",
       "      <th></th>\n",
       "      <th>support</th>\n",
       "      <th>attack</th>\n",
       "      <th>unrelated</th>\n",
       "      <th>macro</th>\n",
       "    </tr>\n",
       "  </thead>\n",
       "  <tbody>\n",
       "    <tr>\n",
       "      <th>gemma:2b</th>\n",
       "      <td>0.437500</td>\n",
       "      <td>0.321429</td>\n",
       "      <td>0.000000</td>\n",
       "      <td>0.252976</td>\n",
       "    </tr>\n",
       "    <tr>\n",
       "      <th>gemma:7b</th>\n",
       "      <td>0.754098</td>\n",
       "      <td>0.648649</td>\n",
       "      <td>0.913043</td>\n",
       "      <td>0.771930</td>\n",
       "    </tr>\n",
       "    <tr>\n",
       "      <th>phi3:3.8b</th>\n",
       "      <td>0.646154</td>\n",
       "      <td>0.550000</td>\n",
       "      <td>0.769231</td>\n",
       "      <td>0.655128</td>\n",
       "    </tr>\n",
       "    <tr>\n",
       "      <th>phi3:14b</th>\n",
       "      <td>0.880000</td>\n",
       "      <td>0.772727</td>\n",
       "      <td>0.840000</td>\n",
       "      <td>0.830909</td>\n",
       "    </tr>\n",
       "    <tr>\n",
       "      <th>llama3:8b</th>\n",
       "      <td>0.680851</td>\n",
       "      <td>0.627451</td>\n",
       "      <td>0.913043</td>\n",
       "      <td>0.740449</td>\n",
       "    </tr>\n",
       "    <tr>\n",
       "      <th>llama3:70b</th>\n",
       "      <td>0.923077</td>\n",
       "      <td>0.888889</td>\n",
       "      <td>0.978723</td>\n",
       "      <td>0.930230</td>\n",
       "    </tr>\n",
       "    <tr>\n",
       "      <th>mistral:7b</th>\n",
       "      <td>0.846154</td>\n",
       "      <td>0.631579</td>\n",
       "      <td>0.814815</td>\n",
       "      <td>0.764183</td>\n",
       "    </tr>\n",
       "    <tr>\n",
       "      <th>mixtral:8x7b</th>\n",
       "      <td>0.774194</td>\n",
       "      <td>0.628571</td>\n",
       "      <td>0.851064</td>\n",
       "      <td>0.751276</td>\n",
       "    </tr>\n",
       "    <tr>\n",
       "      <th>qwen2:0.5b</th>\n",
       "      <td>0.494624</td>\n",
       "      <td>0.000000</td>\n",
       "      <td>0.000000</td>\n",
       "      <td>0.164875</td>\n",
       "    </tr>\n",
       "  </tbody>\n",
       "</table>\n",
       "</div>"
      ],
      "text/plain": [
       "               support    attack  unrelated     macro\n",
       "gemma:2b      0.437500  0.321429   0.000000  0.252976\n",
       "gemma:7b      0.754098  0.648649   0.913043  0.771930\n",
       "phi3:3.8b     0.646154  0.550000   0.769231  0.655128\n",
       "phi3:14b      0.880000  0.772727   0.840000  0.830909\n",
       "llama3:8b     0.680851  0.627451   0.913043  0.740449\n",
       "llama3:70b    0.923077  0.888889   0.978723  0.930230\n",
       "mistral:7b    0.846154  0.631579   0.814815  0.764183\n",
       "mixtral:8x7b  0.774194  0.628571   0.851064  0.751276\n",
       "qwen2:0.5b    0.494624  0.000000   0.000000  0.164875"
      ]
     },
     "execution_count": 3,
     "metadata": {},
     "output_type": "execute_result"
    }
   ],
   "source": [
    "ternary_results = exps.run_from_csv(\".dev/ibm_claim_stance_ternary_sample.csv\", relation_dim=\"ternary\")\n",
    "\n",
    "ternary_results.f1_scores"
   ]
  },
  {
   "cell_type": "code",
   "execution_count": 6,
   "metadata": {},
   "outputs": [],
   "source": [
    "# Save results\n",
    "binary_results.f1_scores.to_csv(\".dev/binary_benchmarks.csv\")\n",
    "ternary_results.f1_scores.to_csv(\".dev/ternary_benchmarks.csv\")"
   ]
  }
 ],
 "metadata": {
  "kernelspec": {
   "display_name": ".venv",
   "language": "python",
   "name": "python3"
  },
  "language_info": {
   "codemirror_mode": {
    "name": "ipython",
    "version": 3
   },
   "file_extension": ".py",
   "mimetype": "text/x-python",
   "name": "python",
   "nbconvert_exporter": "python",
   "pygments_lexer": "ipython3",
   "version": "3.10.12"
  }
 },
 "nbformat": 4,
 "nbformat_minor": 2
}
